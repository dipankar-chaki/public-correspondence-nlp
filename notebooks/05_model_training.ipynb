{
 "cells": [
  {
   "cell_type": "markdown",
   "id": "00bf73c8-40ba-4243-9f8c-44fee10e50ab",
   "metadata": {},
   "source": [
    "# 05 - Model Training & Evaluation\n",
    "\n",
    "This notebook covers training and evaluating both traditional ML and transformer-based models for classifying public correspondence."
   ]
  },
  {
   "cell_type": "markdown",
   "id": "92b12bcf-e2d9-4a44-a342-592267a1b545",
   "metadata": {},
   "source": [
    "### 1. Setup & Imports"
   ]
  },
  {
   "cell_type": "code",
   "execution_count": 1,
   "id": "bcea0a6d-8dc1-4567-8c35-09244b43a551",
   "metadata": {},
   "outputs": [
    {
     "name": "stderr",
     "output_type": "stream",
     "text": [
      "W0603 11:18:21.120000 76037 torch/distributed/elastic/multiprocessing/redirects.py:29] NOTE: Redirects are currently not supported in Windows or MacOs.\n"
     ]
    }
   ],
   "source": [
    "import pandas as pd\n",
    "import numpy as np\n",
    "import matplotlib.pyplot as plt\n",
    "import seaborn as sns\n",
    "from sklearn.model_selection import train_test_split\n",
    "from sklearn.feature_extraction.text import TfidfVectorizer\n",
    "from sklearn.linear_model import LogisticRegression\n",
    "from sklearn.ensemble import RandomForestClassifier\n",
    "from sklearn.svm import SVC\n",
    "from sklearn.metrics import classification_report, confusion_matrix, accuracy_score, f1_score\n",
    "import joblib\n",
    "import torch\n",
    "from transformers import BertTokenizer, BertForSequenceClassification, Trainer, TrainingArguments\n",
    "import plotly.express as px\n",
    "import warnings\n",
    "warnings.filterwarnings('ignore')"
   ]
  },
  {
   "cell_type": "markdown",
   "id": "dc6cecc8-db4c-47fa-a8c9-753383df73da",
   "metadata": {},
   "source": [
    "### Data Loading and Preparation"
   ]
  },
  {
   "cell_type": "code",
   "execution_count": 2,
   "id": "8119df28-98f0-48a5-af75-91e62c8601f9",
   "metadata": {},
   "outputs": [
    {
     "name": "stdout",
     "output_type": "stream",
     "text": [
      "Shape: (1254662, 13)\n"
     ]
    },
    {
     "data": {
      "text/html": [
       "<div>\n",
       "<style scoped>\n",
       "    .dataframe tbody tr th:only-of-type {\n",
       "        vertical-align: middle;\n",
       "    }\n",
       "\n",
       "    .dataframe tbody tr th {\n",
       "        vertical-align: top;\n",
       "    }\n",
       "\n",
       "    .dataframe thead th {\n",
       "        text-align: right;\n",
       "    }\n",
       "</style>\n",
       "<table border=\"1\" class=\"dataframe\">\n",
       "  <thead>\n",
       "    <tr style=\"text-align: right;\">\n",
       "      <th></th>\n",
       "      <th>tweet_id</th>\n",
       "      <th>author_id</th>\n",
       "      <th>inbound</th>\n",
       "      <th>created_at</th>\n",
       "      <th>text</th>\n",
       "      <th>response_tweet_id</th>\n",
       "      <th>in_response_to_tweet_id</th>\n",
       "      <th>message_type</th>\n",
       "      <th>clean_text</th>\n",
       "      <th>clean_text_length</th>\n",
       "      <th>clean_text_word_count</th>\n",
       "      <th>clean_text_char_count</th>\n",
       "      <th>message_type_encoded</th>\n",
       "    </tr>\n",
       "  </thead>\n",
       "  <tbody>\n",
       "    <tr>\n",
       "      <th>0</th>\n",
       "      <td>1</td>\n",
       "      <td>sprintcare</td>\n",
       "      <td>False</td>\n",
       "      <td>Tue Oct 31 22:10:47 +0000 2017</td>\n",
       "      <td>@115712 I understand. I would like to assist y...</td>\n",
       "      <td>2</td>\n",
       "      <td>3.0</td>\n",
       "      <td>company_response</td>\n",
       "      <td>i understand i would like to assist you we wou...</td>\n",
       "      <td>110</td>\n",
       "      <td>22</td>\n",
       "      <td>89</td>\n",
       "      <td>0</td>\n",
       "    </tr>\n",
       "    <tr>\n",
       "      <th>1</th>\n",
       "      <td>4</td>\n",
       "      <td>sprintcare</td>\n",
       "      <td>False</td>\n",
       "      <td>Tue Oct 31 21:54:49 +0000 2017</td>\n",
       "      <td>@115712 Please send us a Private Message so th...</td>\n",
       "      <td>3</td>\n",
       "      <td>5.0</td>\n",
       "      <td>company_response</td>\n",
       "      <td>please send us a private message so that we ca...</td>\n",
       "      <td>114</td>\n",
       "      <td>22</td>\n",
       "      <td>93</td>\n",
       "      <td>0</td>\n",
       "    </tr>\n",
       "    <tr>\n",
       "      <th>2</th>\n",
       "      <td>6</td>\n",
       "      <td>sprintcare</td>\n",
       "      <td>False</td>\n",
       "      <td>Tue Oct 31 21:46:24 +0000 2017</td>\n",
       "      <td>@115712 Can you please send us a private messa...</td>\n",
       "      <td>5,7</td>\n",
       "      <td>8.0</td>\n",
       "      <td>company_response</td>\n",
       "      <td>can you please send us a private message so th...</td>\n",
       "      <td>94</td>\n",
       "      <td>18</td>\n",
       "      <td>77</td>\n",
       "      <td>0</td>\n",
       "    </tr>\n",
       "    <tr>\n",
       "      <th>3</th>\n",
       "      <td>8</td>\n",
       "      <td>115712</td>\n",
       "      <td>True</td>\n",
       "      <td>Tue Oct 31 21:45:10 +0000 2017</td>\n",
       "      <td>@sprintcare is the worst customer service</td>\n",
       "      <td>9,6,10</td>\n",
       "      <td>NaN</td>\n",
       "      <td>customer_complaint_or_inquiry</td>\n",
       "      <td>is the worst customer service</td>\n",
       "      <td>29</td>\n",
       "      <td>5</td>\n",
       "      <td>25</td>\n",
       "      <td>1</td>\n",
       "    </tr>\n",
       "    <tr>\n",
       "      <th>4</th>\n",
       "      <td>15</td>\n",
       "      <td>sprintcare</td>\n",
       "      <td>False</td>\n",
       "      <td>Tue Oct 31 20:03:31 +0000 2017</td>\n",
       "      <td>@115713 We understand your concerns and we'd l...</td>\n",
       "      <td>12</td>\n",
       "      <td>16.0</td>\n",
       "      <td>company_response</td>\n",
       "      <td>we understand your concerns and wed like for y...</td>\n",
       "      <td>120</td>\n",
       "      <td>24</td>\n",
       "      <td>97</td>\n",
       "      <td>0</td>\n",
       "    </tr>\n",
       "  </tbody>\n",
       "</table>\n",
       "</div>"
      ],
      "text/plain": [
       "   tweet_id   author_id  inbound                      created_at  \\\n",
       "0         1  sprintcare    False  Tue Oct 31 22:10:47 +0000 2017   \n",
       "1         4  sprintcare    False  Tue Oct 31 21:54:49 +0000 2017   \n",
       "2         6  sprintcare    False  Tue Oct 31 21:46:24 +0000 2017   \n",
       "3         8      115712     True  Tue Oct 31 21:45:10 +0000 2017   \n",
       "4        15  sprintcare    False  Tue Oct 31 20:03:31 +0000 2017   \n",
       "\n",
       "                                                text response_tweet_id  \\\n",
       "0  @115712 I understand. I would like to assist y...                 2   \n",
       "1  @115712 Please send us a Private Message so th...                 3   \n",
       "2  @115712 Can you please send us a private messa...               5,7   \n",
       "3          @sprintcare is the worst customer service            9,6,10   \n",
       "4  @115713 We understand your concerns and we'd l...                12   \n",
       "\n",
       "   in_response_to_tweet_id                   message_type  \\\n",
       "0                      3.0               company_response   \n",
       "1                      5.0               company_response   \n",
       "2                      8.0               company_response   \n",
       "3                      NaN  customer_complaint_or_inquiry   \n",
       "4                     16.0               company_response   \n",
       "\n",
       "                                          clean_text  clean_text_length  \\\n",
       "0  i understand i would like to assist you we wou...                110   \n",
       "1  please send us a private message so that we ca...                114   \n",
       "2  can you please send us a private message so th...                 94   \n",
       "3                      is the worst customer service                 29   \n",
       "4  we understand your concerns and wed like for y...                120   \n",
       "\n",
       "   clean_text_word_count  clean_text_char_count  message_type_encoded  \n",
       "0                     22                     89                     0  \n",
       "1                     22                     93                     0  \n",
       "2                     18                     77                     0  \n",
       "3                      5                     25                     1  \n",
       "4                     24                     97                     0  "
      ]
     },
     "execution_count": 2,
     "metadata": {},
     "output_type": "execute_result"
    }
   ],
   "source": [
    "# Load feature-engineered data (adjust the path if needed)\n",
    "df = pd.read_csv('../data/twcs/twcs_features.csv')\n",
    "print('Shape:', df.shape)\n",
    "df.head()"
   ]
  },
  {
   "cell_type": "code",
   "execution_count": 3,
   "id": "0d11c697-9e5c-4913-b3b7-ff687d18cef0",
   "metadata": {},
   "outputs": [
    {
     "data": {
      "image/png": "[encoded data removed]",
      "text/plain": [
       "<Figure size 640x480 with 1 Axes>"
      ]
     },
     "metadata": {},
     "output_type": "display_data"
    },
    {
     "data": {
      "text/plain": [
       "message_type\n",
       "customer_complaint_or_inquiry    0.627536\n",
       "company_response                 0.372464\n",
       "Name: proportion, dtype: float64"
      ]
     },
     "execution_count": 3,
     "metadata": {},
     "output_type": "execute_result"
    }
   ],
   "source": [
    "# Check class balance (using the “message_type” column)\n",
    "df['message_type'].value_counts().plot(kind='bar', title='Class Distribution')\n",
    "plt.show()\n",
    "df['message_type'].value_counts(normalize=True)"
   ]
  },
  {
   "cell_type": "code",
   "execution_count": 4,
   "id": "03a0aa6c-926e-4d5d-8324-c42ac1f47509",
   "metadata": {},
   "outputs": [
    {
     "name": "stdout",
     "output_type": "stream",
     "text": [
      "Train: (1003729,) Test: (250933,)\n"
     ]
    }
   ],
   "source": [
    "# Train/test split (using “clean_text” as X and “message_type_encoded” as y)\n",
    "X = df['clean_text']\n",
    "y = df['message_type_encoded']\n",
    "X_train, X_test, y_train, y_test = train_test_split(X, y, test_size=0.2, stratify=y, random_state=42)\n",
    "print('Train:', X_train.shape, 'Test:', X_test.shape)"
   ]
  },
  {
   "cell_type": "markdown",
   "id": "81ace3f0-e05c-4d2e-9553-7197fbf12098",
   "metadata": {},
   "source": [
    "### Feature Engineering for ML"
   ]
  },
  {
   "cell_type": "code",
   "execution_count": 5,
   "id": "a27f7302-b102-4df6-909d-ad4a6fedc66a",
   "metadata": {},
   "outputs": [],
   "source": [
    "# Ensure NaNs are dropped from both X and y\n",
    "train_mask = ~X_train.isna()\n",
    "test_mask = ~X_test.isna()\n",
    "\n",
    "X_train_clean = X_train[train_mask]\n",
    "X_test_clean = X_test[test_mask]\n",
    "y_train_clean = y_train[train_mask]\n",
    "y_test_clean = y_test[test_mask]\n",
    "\n",
    "# TF-IDF Vectorization\n",
    "tfidf = TfidfVectorizer(max_features=5000, ngram_range=(1,2))\n",
    "X_train_tfidf = tfidf.fit_transform(X_train_clean)\n",
    "X_test_tfidf = tfidf.transform(X_test_clean)\n",
    "\n",
    "# Add engineered features\n",
    "engineered_features = ['clean_text_length', 'clean_text_word_count', 'clean_text_char_count']\n",
    "X_train_eng = df.loc[X_train_clean.index, engineered_features].values\n",
    "X_test_eng = df.loc[X_test_clean.index, engineered_features].values\n",
    "\n",
    "# Combine TF-IDF and engineered features\n",
    "from scipy.sparse import hstack\n",
    "X_train_final = hstack([X_train_tfidf, X_train_eng])\n",
    "X_test_final = hstack([X_test_tfidf, X_test_eng])\n",
    "\n",
    "# Use the cleaned y\n",
    "y_train = y_train_clean\n",
    "y_test = y_test_clean"
   ]
  },
  {
   "cell_type": "markdown",
   "id": "b736958c-c481-49eb-b191-286bd749dfe8",
   "metadata": {},
   "source": [
    "### Traditional ML Models"
   ]
  },
  {
   "cell_type": "code",
   "execution_count": 6,
   "id": "1ddcfdb4-044e-4319-a14e-1591dacd1d8f",
   "metadata": {},
   "outputs": [
    {
     "name": "stdout",
     "output_type": "stream",
     "text": [
      "\n",
      "🔄 Training: Logistic Regression ...\n",
      "✅ Logistic Regression – Accuracy: 0.949, F1 Score: 0.949\n",
      "              precision    recall  f1-score   support\n",
      "\n",
      "           0       0.95      0.91      0.93     93379\n",
      "           1       0.95      0.97      0.96    156710\n",
      "\n",
      "    accuracy                           0.95    250089\n",
      "   macro avg       0.95      0.94      0.94    250089\n",
      "weighted avg       0.95      0.95      0.95    250089\n",
      "\n",
      "[[ 85162   8217]\n",
      " [  4564 152146]]\n",
      "------------------------------------------------------------\n",
      "\n",
      "🔄 Training: Random Forest ...\n",
      "✅ Random Forest – Accuracy: 0.958, F1 Score: 0.958\n",
      "              precision    recall  f1-score   support\n",
      "\n",
      "           0       0.96      0.93      0.94     93379\n",
      "           1       0.96      0.98      0.97    156710\n",
      "\n",
      "    accuracy                           0.96    250089\n",
      "   macro avg       0.96      0.95      0.95    250089\n",
      "weighted avg       0.96      0.96      0.96    250089\n",
      "\n",
      "[[ 86463   6916]\n",
      " [  3583 153127]]\n",
      "------------------------------------------------------------\n",
      "\n",
      "🔄 Training: SVM (approx RBF) ...\n",
      "✅ SVM (approx RBF) – Accuracy: 0.628, F1 Score: 0.502\n",
      "              precision    recall  f1-score   support\n",
      "\n",
      "           0       0.54      0.03      0.05     93379\n",
      "           1       0.63      0.99      0.77    156710\n",
      "\n",
      "    accuracy                           0.63    250089\n",
      "   macro avg       0.58      0.51      0.41    250089\n",
      "weighted avg       0.60      0.63      0.50    250089\n",
      "\n",
      "[[  2636  90743]\n",
      " [  2256 154454]]\n",
      "------------------------------------------------------------\n"
     ]
    }
   ],
   "source": [
    "from sklearn.linear_model import LogisticRegression, SGDClassifier\n",
    "from sklearn.ensemble import RandomForestClassifier\n",
    "from sklearn.kernel_approximation import Nystroem\n",
    "from sklearn.pipeline import make_pipeline\n",
    "from sklearn.metrics import accuracy_score, f1_score, classification_report, confusion_matrix\n",
    "\n",
    "# ✅ Define optimized models\n",
    "models = {\n",
    "    'Logistic Regression': LogisticRegression(\n",
    "        max_iter=2000, solver='saga', n_jobs=-1, random_state=42\n",
    "    ),\n",
    "    'Random Forest': RandomForestClassifier(\n",
    "        n_estimators=100, n_jobs=-1, random_state=42\n",
    "    ),\n",
    "    'SVM (approx RBF)': make_pipeline(\n",
    "        Nystroem(kernel='rbf', gamma=0.2, n_components=300, random_state=42),\n",
    "        SGDClassifier(loss='hinge', max_iter=1000, tol=1e-3, random_state=42, n_jobs=-1)\n",
    "    )\n",
    "}\n",
    "\n",
    "results = {}\n",
    "\n",
    "for name, model in models.items():\n",
    "    try:\n",
    "        print(f'\\n🔄 Training: {name} ...')\n",
    "        model.fit(X_train_final, y_train)\n",
    "        y_pred = model.predict(X_test_final)\n",
    "\n",
    "        acc = accuracy_score(y_test, y_pred)\n",
    "        f1 = f1_score(y_test, y_pred, average='weighted')\n",
    "\n",
    "        results[name] = {\n",
    "            'accuracy': acc,\n",
    "            'f1': f1,\n",
    "            'model': model\n",
    "        }\n",
    "\n",
    "        print(f'✅ {name} – Accuracy: {acc:.3f}, F1 Score: {f1:.3f}')\n",
    "        print(classification_report(y_test, y_pred))\n",
    "        print(confusion_matrix(y_test, y_pred))\n",
    "        print('-' * 60)\n",
    "\n",
    "    except Exception as e:\n",
    "        print(f'❌ {name} failed to train: {e}')"
   ]
  },
  {
   "cell_type": "code",
   "execution_count": 9,
   "id": "1f5c4dfa-787e-4947-acee-675ed149dd8d",
   "metadata": {},
   "outputs": [
    {
     "name": "stdout",
     "output_type": "stream",
     "text": [
      "💾 Saved Logistic Regression to /Users/joy/Git/nlp-public-correspondence/models/logistic_regression_model.joblib\n",
      "💾 Saved Random Forest to /Users/joy/Git/nlp-public-correspondence/models/random_forest_model.joblib\n",
      "💾 Saved SVM (approx RBF) to /Users/joy/Git/nlp-public-correspondence/models/svm_approx_rbf_model.joblib\n"
     ]
    }
   ],
   "source": [
    "import joblib\n",
    "from pathlib import Path\n",
    "\n",
    "# Get the project root (assumes notebook is inside a subfolder like 'notebooks/')\n",
    "notebook_dir = Path.cwd()\n",
    "project_root = notebook_dir.parent  # Adjust this if you're deeper inside the project\n",
    "models_dir = project_root / \"models\"\n",
    "models_dir.mkdir(parents=True, exist_ok=True)\n",
    "\n",
    "# Save each model\n",
    "for name, result in results.items():\n",
    "    filename = f\"{name.replace(' ', '_').replace('(', '').replace(')', '').lower()}_model.joblib\"\n",
    "    model_path = models_dir / filename\n",
    "    joblib.dump(result['model'], model_path)\n",
    "    print(f\"💾 Saved {name} to {model_path}\")"
   ]
  },
  {
   "cell_type": "markdown",
   "id": "70ac834b-a2aa-4bee-9e29-a316320988e7",
   "metadata": {},
   "source": [
    "### BERT Model (Transformers)"
   ]
  },
  {
   "cell_type": "code",
   "execution_count": 11,
   "id": "fa1c9a06-2ae0-4993-a1cc-50d189f0a0b3",
   "metadata": {},
   "outputs": [
    {
     "name": "stdout",
     "output_type": "stream",
     "text": [
      "True\n"
     ]
    }
   ],
   "source": [
    "    import torch\n",
    "    print(torch.backends.mps.is_available())\n",
    "    # Should print True if MPS is available"
   ]
  },
  {
   "cell_type": "code",
   "execution_count": 12,
   "id": "dffe4511-ce2e-4341-9da0-985c50ada9c2",
   "metadata": {},
   "outputs": [
    {
     "name": "stdout",
     "output_type": "stream",
     "text": [
      "tensor([[1., 1., 1.],\n",
      "        [1., 1., 1.]], device='mps:0')\n"
     ]
    }
   ],
   "source": [
    "    import torch\n",
    "    device = \"mps\"  # Or \"cuda\" if you are using CUDA (not applicable for M3 Max)\n",
    "    if torch.backends.mps.is_available():\n",
    "        device = \"mps\"\n",
    "    else:\n",
    "        device = \"cpu\"\n",
    "    tensor = torch.ones(2, 3, device=device)\n",
    "    print(tensor)"
   ]
  },
  {
   "cell_type": "code",
   "execution_count": 13,
   "id": "147302fe-c364-4d92-8032-8866f5d92fbc",
   "metadata": {},
   "outputs": [
    {
     "name": "stdout",
     "output_type": "stream",
     "text": [
      "Using device: mps\n"
     ]
    },
    {
     "name": "stderr",
     "output_type": "stream",
     "text": [
      "Some weights of BertForSequenceClassification were not initialized from the model checkpoint at bert-base-uncased and are newly initialized: ['classifier.bias', 'classifier.weight']\n",
      "You should probably TRAIN this model on a down-stream task to be able to use it for predictions and inference.\n",
      "Epoch 1: 100%|██████████████████████████████████████████████████████████████████| 62516/62516 [4:17:46<00:00,  4.04it/s, loss=0.00118]\n",
      "Epoch 2: 100%|█████████████████████████████████████████████████████████████████| 62516/62516 [4:18:12<00:00,  4.04it/s, loss=0.000259]\n"
     ]
    },
    {
     "name": "stdout",
     "output_type": "stream",
     "text": [
      "BERT – Accuracy: 0.992, F1: 0.992\n",
      "              precision    recall  f1-score   support\n",
      "\n",
      "           0       0.99      0.99      0.99     93379\n",
      "           1       0.99      0.99      0.99    156710\n",
      "\n",
      "    accuracy                           0.99    250089\n",
      "   macro avg       0.99      0.99      0.99    250089\n",
      "weighted avg       0.99      0.99      0.99    250089\n",
      "\n",
      "[[ 92194   1185]\n",
      " [   936 155774]]\n"
     ]
    },
    {
     "data": {
      "image/png": "[encoded data removed]",
      "text/plain": [
       "<Figure size 800x600 with 2 Axes>"
      ]
     },
     "metadata": {},
     "output_type": "display_data"
    }
   ],
   "source": [
    "import torch\n",
    "from torch.utils.data import DataLoader\n",
    "from transformers import BertTokenizer, BertForSequenceClassification, AdamW\n",
    "from sklearn.metrics import accuracy_score, f1_score, classification_report, confusion_matrix\n",
    "import pandas as pd\n",
    "from tqdm import tqdm\n",
    "import matplotlib.pyplot as plt\n",
    "import seaborn as sns\n",
    "\n",
    "# 1. Label Encoding\n",
    "tokenizer = BertTokenizer.from_pretrained('bert-base-uncased')\n",
    "labels = y.unique()\n",
    "label2id = {str(label): i for i, label in enumerate(labels)}\n",
    "id2label = {i: str(label) for i, label in enumerate(labels)}\n",
    "\n",
    "# 2. Tokenization Function\n",
    "def encode_batch(texts, tokenizer, max_length=128):\n",
    "    if isinstance(texts, pd.Series):\n",
    "        texts = texts.tolist()\n",
    "    return tokenizer(texts, padding=True, truncation=True, max_length=max_length, return_tensors='pt')\n",
    "\n",
    "# 3. Dataset Class\n",
    "class TweetDataset(torch.utils.data.Dataset):\n",
    "    def __init__(self, texts, labels, tokenizer, max_length=128):\n",
    "        self.encodings = encode_batch(texts, tokenizer, max_length)\n",
    "        self.labels = torch.tensor(labels.values)\n",
    "    def __getitem__(self, idx):\n",
    "        item = {key: val[idx] for key, val in self.encodings.items()}\n",
    "        item['labels'] = self.labels[idx]\n",
    "        return item\n",
    "    def __len__(self):\n",
    "        return len(self.labels)\n",
    "\n",
    "# 4. Prepare Datasets\n",
    "train_dataset = TweetDataset(X_train_clean, y_train_clean, tokenizer)\n",
    "test_dataset = TweetDataset(X_test_clean, y_test_clean, tokenizer)\n",
    "train_loader = DataLoader(train_dataset, batch_size=16, shuffle=True)\n",
    "test_loader = DataLoader(test_dataset, batch_size=32)\n",
    "\n",
    "# 5. Device Setup (MPS on MacBook M3)\n",
    "device = torch.device(\"mps\" if torch.backends.mps.is_available() else \"cpu\")\n",
    "print(f\"Using device: {device}\")\n",
    "\n",
    "# 6. Model Setup\n",
    "model = BertForSequenceClassification.from_pretrained(\n",
    "    'bert-base-uncased',\n",
    "    num_labels=len(labels),\n",
    "    id2label=id2label,\n",
    "    label2id=label2id\n",
    ").to(device)\n",
    "\n",
    "optimizer = AdamW(model.parameters(), lr=2e-5)\n",
    "\n",
    "# 7. Training Loop\n",
    "model.train()\n",
    "for epoch in range(2):\n",
    "    loop = tqdm(train_loader, desc=f\"Epoch {epoch+1}\")\n",
    "    for batch in loop:\n",
    "        input_ids = batch['input_ids'].to(device)\n",
    "        attention_mask = batch['attention_mask'].to(device)\n",
    "        labels = batch['labels'].to(device)\n",
    "\n",
    "        optimizer.zero_grad()\n",
    "        outputs = model(input_ids, attention_mask=attention_mask, labels=labels)\n",
    "        loss = outputs.loss\n",
    "        loss.backward()\n",
    "        optimizer.step()\n",
    "\n",
    "        loop.set_postfix(loss=loss.item())\n",
    "\n",
    "# 8. Evaluation Loop\n",
    "model.eval()\n",
    "all_preds, all_labels = [], []\n",
    "with torch.no_grad():\n",
    "    for batch in test_loader:\n",
    "        input_ids = batch['input_ids'].to(device)\n",
    "        attention_mask = batch['attention_mask'].to(device)\n",
    "        labels = batch['labels'].to(device)\n",
    "\n",
    "        outputs = model(input_ids, attention_mask=attention_mask)\n",
    "        preds = outputs.logits.argmax(dim=1).cpu().numpy()\n",
    "        all_preds.extend(preds)\n",
    "        all_labels.extend(labels.cpu().numpy())\n",
    "\n",
    "# 9. Metrics and Plot\n",
    "bert_acc = accuracy_score(all_labels, all_preds)\n",
    "bert_f1 = f1_score(all_labels, all_preds, average='weighted')\n",
    "print(f\"BERT – Accuracy: {bert_acc:.3f}, F1: {bert_f1:.3f}\")\n",
    "print(classification_report(all_labels, all_preds))\n",
    "print(confusion_matrix(all_labels, all_preds))\n",
    "\n",
    "plt.figure(figsize=(8, 6))\n",
    "sns.heatmap(confusion_matrix(all_labels, all_preds), annot=True, fmt='d', cmap='Blues')\n",
    "plt.title(\"Confusion Matrix\")\n",
    "plt.xlabel(\"Predicted\")\n",
    "plt.ylabel(\"True\")\n",
    "plt.show()"
   ]
  },
  {
   "cell_type": "markdown",
   "id": "9c82069f-3979-4365-b664-fbc4b8ec93aa",
   "metadata": {},
   "source": [
    "# Append BERT’s performance to results"
   ]
  },
  {
   "cell_type": "code",
   "execution_count": 14,
   "id": "39de30bd-d409-4fbd-9ddf-52a5b113b706",
   "metadata": {},
   "outputs": [],
   "source": [
    "results[\"BERT\"] = {\n",
    "    \"accuracy\": bert_acc,\n",
    "    \"f1\": bert_f1,\n",
    "    \"model\": model  # The trained BERT model from the PyTorch loop\n",
    "}"
   ]
  },
  {
   "cell_type": "markdown",
   "id": "92a4743a-d9a5-4617-953b-6938aba78bc4",
   "metadata": {},
   "source": [
    "# Plot and export the comparison"
   ]
  },
  {
   "cell_type": "code",
   "execution_count": 15,
   "id": "45469df9-4964-494d-919f-c0f90402f032",
   "metadata": {},
   "outputs": [
    {
     "data": {
      "text/plain": [
       "<Figure size 1000x500 with 0 Axes>"
      ]
     },
     "metadata": {},
     "output_type": "display_data"
    },
    {
     "data": {
      "image/png": "[encoded data removed]",
      "text/plain": [
       "<Figure size 1000x600 with 1 Axes>"
      ]
     },
     "metadata": {},
     "output_type": "display_data"
    }
   ],
   "source": [
    "import pandas as pd\n",
    "import matplotlib.pyplot as plt\n",
    "\n",
    "# Build a DataFrame from results\n",
    "results_df = pd.DataFrame(results).T[['accuracy', 'f1']].sort_values(by='f1', ascending=False)\n",
    "\n",
    "# Plot and export\n",
    "plt.figure(figsize=(10, 5))\n",
    "results_df.plot(kind='bar', rot=30, ylim=(0, 1), title='Model Performance', figsize=(10, 6))\n",
    "plt.ylabel('Score')\n",
    "plt.tight_layout()\n",
    "plt.savefig('../outputs/model_comparison.png', dpi=300)\n",
    "plt.show()"
   ]
  },
  {
   "cell_type": "markdown",
   "id": "84d7f2e1-f656-4179-88af-483a418229cd",
   "metadata": {},
   "source": [
    "# Export results as CSV"
   ]
  },
  {
   "cell_type": "code",
   "execution_count": 16,
   "id": "9efb8bdf-c490-4621-a765-777772fc7ac6",
   "metadata": {},
   "outputs": [],
   "source": [
    "results_df.to_csv(\"../outputs/model_scores.csv\")"
   ]
  },
  {
   "cell_type": "markdown",
   "id": "923ca8b4-c7a5-4338-9cf4-5a086cd6ffff",
   "metadata": {},
   "source": [
    "# Save traditional models"
   ]
  },
  {
   "cell_type": "code",
   "execution_count": 17,
   "id": "4301273c-e284-4770-8c32-fd50c51cb289",
   "metadata": {},
   "outputs": [],
   "source": [
    "import joblib\n",
    "import os\n",
    "\n",
    "os.makedirs(\"../models\", exist_ok=True)\n",
    "\n",
    "for name, res in results.items():\n",
    "    if name != \"BERT\":\n",
    "        model_file = f\"../models/{name.replace(' ', '_').lower()}_model.joblib\"\n",
    "        joblib.dump(res[\"model\"], model_file)"
   ]
  },
  {
   "cell_type": "markdown",
   "id": "d3383fa7-647c-46b9-843c-969794e62089",
   "metadata": {},
   "source": [
    "# Save BERT model & tokenizer"
   ]
  },
  {
   "cell_type": "code",
   "execution_count": 19,
   "id": "10199d8f-ee50-48f3-ae68-adbe792e4b7e",
   "metadata": {},
   "outputs": [
    {
     "data": {
      "text/plain": [
       "('../models/bert_model/tokenizer_config.json',\n",
       " '../models/bert_model/special_tokens_map.json',\n",
       " '../models/bert_model/vocab.txt',\n",
       " '../models/bert_model/added_tokens.json')"
      ]
     },
     "execution_count": 19,
     "metadata": {},
     "output_type": "execute_result"
    }
   ],
   "source": [
    "model.save_pretrained(\"../models/bert_model\")\n",
    "tokenizer.save_pretrained(\"../models/bert_model\")"
   ]
  },
  {
   "cell_type": "markdown",
   "id": "f6d50348-493d-4cc4-91df-0845d4dc721b",
   "metadata": {},
   "source": [
    "# Display ranking summary"
   ]
  },
  {
   "cell_type": "code",
   "execution_count": 20,
   "id": "ad2e8f3b-beaf-4178-896a-8737041be8b8",
   "metadata": {},
   "outputs": [
    {
     "name": "stdout",
     "output_type": "stream",
     "text": [
      "🔍 Model Ranking by F1 Score:\n",
      "\n",
      "                     accuracy        f1\n",
      "BERT                 0.991519  0.991517\n",
      "Random Forest        0.958019  0.957858\n",
      "Logistic Regression  0.948894  0.948679\n",
      "SVM (approx RBF)     0.628136  0.501652\n"
     ]
    }
   ],
   "source": [
    "print(\"🔍 Model Ranking by F1 Score:\\n\")\n",
    "print(results_df.sort_values(\"f1\", ascending=False))"
   ]
  },
  {
   "cell_type": "code",
   "execution_count": null,
   "id": "c0f555f4-2195-4655-924e-00ca5c690495",
   "metadata": {},
   "outputs": [],
   "source": []
  }
 ],
 "metadata": {
  "kernelspec": {
   "display_name": "Python (nlp-env)",
   "language": "python",
   "name": "nlp-env"
  },
  "language_info": {
   "codemirror_mode": {
    "name": "ipython",
    "version": 3
   },
   "file_extension": ".py",
   "mimetype": "text/x-python",
   "name": "python",
   "nbconvert_exporter": "python",
   "pygments_lexer": "ipython3",
   "version": "3.11.12"
  }
 },
 "nbformat": 4,
 "nbformat_minor": 5
}
