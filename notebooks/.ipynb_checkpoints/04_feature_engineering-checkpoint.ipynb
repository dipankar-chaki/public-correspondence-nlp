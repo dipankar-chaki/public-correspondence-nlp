{
	"cells": [
		{
			"cell_type": "markdown",
			"metadata": {},
			"source": [
				"# 04 Feature Engineering\n",
				"\n",
				"In this notebook, we engineer text-based features for message classification."
			]
		},
		{
			"cell_type": "code",
			"metadata": {},
			"execution_count": null,
			"outputs": [],
			"source": [
				"# Import packages and utilities\n",
				"import sys\n",
				"sys.path.append('../scripts')\n",
				"import utils\n",
				"import pandas as pd\n",
				"import matplotlib.pyplot as plt\n",
				"import seaborn as sns\n",
				"utils.set_plot_style()"
			]
		}
	],
	"metadata": {
		"kernelspec": {
			"display_name": "Python 3",
			"language": "python",
			"name": "python3"
		},
		"language_info": {
			"name": "python",
			"version": "3.11"
		}
	},
	"nbformat": 4,
	"nbformat_minor": 5
}
